{
  "nbformat": 4,
  "nbformat_minor": 0,
  "metadata": {
    "colab": {
      "name": "BagOfWords.ipynb",
      "provenance": [],
      "collapsed_sections": [],
      "authorship_tag": "ABX9TyOYSrnt+nHqC48WIN8p5Xo0",
      "include_colab_link": true
    },
    "kernelspec": {
      "name": "python3",
      "display_name": "Python 3"
    },
    "language_info": {
      "name": "python"
    }
  },
  "cells": [
    {
      "cell_type": "markdown",
      "metadata": {
        "id": "view-in-github",
        "colab_type": "text"
      },
      "source": [
        "<a href=\"https://colab.research.google.com/github/m0hit-kumar/NLP/blob/main/BagOfWords.ipynb\" target=\"_parent\"><img src=\"https://colab.research.google.com/assets/colab-badge.svg\" alt=\"Open In Colab\"/></a>"
      ]
    },
    {
      "cell_type": "code",
      "execution_count": 1,
      "metadata": {
        "id": "yS5BfMGvnr_2"
      },
      "outputs": [],
      "source": [
        "import nltk"
      ]
    },
    {
      "cell_type": "code",
      "source": [
        "\n",
        "paragraph = \"\"\"I have three visions for India. In 3000 years of our history, people from all over \n",
        "               the world have come and invaded us, captured our lands, conquered our minds. \n",
        "               From Alexander onwards, the Greeks, the Turks, the Moguls, the Portuguese, the British,\n",
        "               the French, the Dutch, all of them came and looted us, took over what was ours. \n",
        "               Yet we have not done this to any other nation. We have not conquered anyone. \n",
        "               We have not grabbed their land, their culture, \n",
        "               their history and tried to enforce our way of life on them. \n",
        "               Why? Because we respect the freedom of others.That is why my \n",
        "               first vision is that of freedom. I believe that India got its first vision of \n",
        "               this in 1857, when we started the War of Independence. It is this freedom that\n",
        "               we must protect and nurture and build on. If we are not free, no one will respect us.\n",
        "               My second vision for India’s development. For fifty years we have been a developing nation.\n",
        "               It is time we see ourselves as a developed nation. We are among the top 5 nations of the world\n",
        "               in terms of GDP. We have a 10 percent growth rate in most areas. Our poverty levels are falling.\n",
        "               Our achievements are being globally recognised today. Yet we lack the self-confidence to\n",
        "               see ourselves as a developed nation, self-reliant and self-assured. Isn’t this incorrect?\n",
        "               I have a third vision. India must stand up to the world. Because I believe that unless India \n",
        "               stands up to the world, no one will respect us. Only strength respects strength. We must be \n",
        "               strong not only as a military power but also as an economic power. Both must go hand-in-hand. \n",
        "               My good fortune was to have worked with three great minds. Dr. Vikram Sarabhai of the Dept. of \n",
        "               space, Professor Satish Dhawan, who succeeded him and Dr. Brahm Prakash, father of nuclear material.\n",
        "               I was lucky to have worked with all three of them closely and consider this the great opportunity of my life. \n",
        "               I see four milestones in my career\"\"\""
      ],
      "metadata": {
        "id": "VxxF_naM0SrB"
      },
      "execution_count": 5,
      "outputs": []
    },
    {
      "cell_type": "code",
      "source": [
        "nltk.download('punkt')\n",
        "nltk.download('stopwords')"
      ],
      "metadata": {
        "colab": {
          "base_uri": "https://localhost:8080/"
        },
        "id": "YyXTrKhq3Wvy",
        "outputId": "40909d5f-3a53-46d4-a983-947489180657"
      },
      "execution_count": 8,
      "outputs": [
        {
          "output_type": "stream",
          "name": "stdout",
          "text": [
            "[nltk_data] Downloading package punkt to /root/nltk_data...\n",
            "[nltk_data]   Package punkt is already up-to-date!\n",
            "[nltk_data] Downloading package stopwords to /root/nltk_data...\n",
            "[nltk_data]   Unzipping corpora/stopwords.zip.\n"
          ]
        },
        {
          "output_type": "execute_result",
          "data": {
            "text/plain": [
              "True"
            ]
          },
          "metadata": {},
          "execution_count": 8
        }
      ]
    },
    {
      "cell_type": "code",
      "source": [
        "import re\n",
        "from nltk.corpus import stopwords\n",
        "from nltk.stem.porter import PorterStemmer\n",
        "from nltk.stem import WordNetLemmatizer"
      ],
      "metadata": {
        "id": "AUUpSYc70Tx-"
      },
      "execution_count": 9,
      "outputs": []
    },
    {
      "cell_type": "code",
      "source": [
        "ps = PorterStemmer()\n",
        "wordnet=WordNetLemmatizer()\n",
        "sentences = nltk.sent_tokenize(paragraph)\n",
        "corpus = []\n",
        "for i in range(len(sentences)):\n",
        "    review = re.sub('[^a-zA-Z]', ' ', sentences[i])\n",
        "    review = review.lower()\n",
        "    review = review.split()\n",
        "    review = [ps.stem(word) for word in review if not word in set(stopwords.words('english'))]\n",
        "    review = ' '.join(review)\n",
        "    corpus.append(review)\n",
        "    "
      ],
      "metadata": {
        "id": "F6ONuc_d3Ne8"
      },
      "execution_count": 10,
      "outputs": []
    },
    {
      "cell_type": "code",
      "source": [
        "corpus,sentences"
      ],
      "metadata": {
        "colab": {
          "base_uri": "https://localhost:8080/"
        },
        "id": "4lCkTSuY3RrI",
        "outputId": "f1200d46-4973-41e4-c119-9883aec01cc2"
      },
      "execution_count": 14,
      "outputs": [
        {
          "output_type": "execute_result",
          "data": {
            "text/plain": [
              "(['three vision india',\n",
              "  'year histori peopl world come invad us captur land conquer mind',\n",
              "  'alexand onward greek turk mogul portugues british french dutch came loot us took',\n",
              "  'yet done nation',\n",
              "  'conquer anyon',\n",
              "  'grab land cultur histori tri enforc way life',\n",
              "  '',\n",
              "  'respect freedom other first vision freedom',\n",
              "  'believ india got first vision start war independ',\n",
              "  'freedom must protect nurtur build',\n",
              "  'free one respect us',\n",
              "  'second vision india develop',\n",
              "  'fifti year develop nation',\n",
              "  'time see develop nation',\n",
              "  'among top nation world term gdp',\n",
              "  'percent growth rate area',\n",
              "  'poverti level fall',\n",
              "  'achiev global recognis today',\n",
              "  'yet lack self confid see develop nation self reliant self assur',\n",
              "  'incorrect',\n",
              "  'third vision',\n",
              "  'india must stand world',\n",
              "  'believ unless india stand world one respect us',\n",
              "  'strength respect strength',\n",
              "  'must strong militari power also econom power',\n",
              "  'must go hand hand',\n",
              "  'good fortun work three great mind',\n",
              "  'dr vikram sarabhai dept',\n",
              "  'space professor satish dhawan succeed dr brahm prakash father nuclear materi',\n",
              "  'lucki work three close consid great opportun life',\n",
              "  'see four mileston career'],\n",
              " ['I have three visions for India.',\n",
              "  'In 3000 years of our history, people from all over \\n               the world have come and invaded us, captured our lands, conquered our minds.',\n",
              "  'From Alexander onwards, the Greeks, the Turks, the Moguls, the Portuguese, the British,\\n               the French, the Dutch, all of them came and looted us, took over what was ours.',\n",
              "  'Yet we have not done this to any other nation.',\n",
              "  'We have not conquered anyone.',\n",
              "  'We have not grabbed their land, their culture, \\n               their history and tried to enforce our way of life on them.',\n",
              "  'Why?',\n",
              "  'Because we respect the freedom of others.That is why my \\n               first vision is that of freedom.',\n",
              "  'I believe that India got its first vision of \\n               this in 1857, when we started the War of Independence.',\n",
              "  'It is this freedom that\\n               we must protect and nurture and build on.',\n",
              "  'If we are not free, no one will respect us.',\n",
              "  'My second vision for India’s development.',\n",
              "  'For fifty years we have been a developing nation.',\n",
              "  'It is time we see ourselves as a developed nation.',\n",
              "  'We are among the top 5 nations of the world\\n               in terms of GDP.',\n",
              "  'We have a 10 percent growth rate in most areas.',\n",
              "  'Our poverty levels are falling.',\n",
              "  'Our achievements are being globally recognised today.',\n",
              "  'Yet we lack the self-confidence to\\n               see ourselves as a developed nation, self-reliant and self-assured.',\n",
              "  'Isn’t this incorrect?',\n",
              "  'I have a third vision.',\n",
              "  'India must stand up to the world.',\n",
              "  'Because I believe that unless India \\n               stands up to the world, no one will respect us.',\n",
              "  'Only strength respects strength.',\n",
              "  'We must be \\n               strong not only as a military power but also as an economic power.',\n",
              "  'Both must go hand-in-hand.',\n",
              "  'My good fortune was to have worked with three great minds.',\n",
              "  'Dr. Vikram Sarabhai of the Dept.',\n",
              "  'of \\n               space, Professor Satish Dhawan, who succeeded him and Dr. Brahm Prakash, father of nuclear material.',\n",
              "  'I was lucky to have worked with all three of them closely and consider this the great opportunity of my life.',\n",
              "  'I see four milestones in my career'])"
            ]
          },
          "metadata": {},
          "execution_count": 14
        }
      ]
    },
    {
      "cell_type": "code",
      "source": [
        ""
      ],
      "metadata": {
        "id": "4P4Itgic3kqW"
      },
      "execution_count": null,
      "outputs": []
    }
  ]
}